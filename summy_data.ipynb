{
 "cells": [
  {
   "attachments": {},
   "cell_type": "markdown",
   "metadata": {},
   "source": [
    " ## The Modbus TCP Server is a simple Modbus server for debugging and simulation. \n",
    " [modbus-server](https://hub.docker.com/r/oitc/modbus-server)"
   ]
  },
  {
   "cell_type": "code",
   "execution_count": 21,
   "metadata": {},
   "outputs": [],
   "source": [
    "data = {\n",
    "  \"server\": {\n",
    "    \"listenerAddress\": \"0.0.0.0\",\n",
    "    \"listenerPort\": 5020,\n",
    "    \"tlsParams\": {\n",
    "      \"description\": \"path to certificate and private key to enable tls\",\n",
    "      \"privateKey\": None,\n",
    "      \"certificate\": None\n",
    "    },\n",
    "    \"logging\": {\n",
    "      \"format\": \"%(asctime)-15s %(threadName)-15s  %(levelname)-8s %(module)-15s:%(lineno)-8s %(message)s\",\n",
    "      \"logLevel\": \"DEBUG\"\n",
    "    }\n",
    "  },\n",
    "  \"registers\": {\n",
    "    \"description\": \"initial values for the register types\",\n",
    "    \"zeroMode\": False,\n",
    "    \"initializeUndefinedRegisters\": False,\n",
    "    \"discreteInput\": {}  ,\n",
    "    \"coils\": {},\n",
    "    \"holdingRegister\": {\n",
    "      \"123\": \"0xAABB\",\n",
    "      \"246\": \"0x0101\"\n",
    "    },\n",
    "    \"inputRegister\": {}\n",
    "  }\n",
    "}"
   ]
  },
  {
   "cell_type": "code",
   "execution_count": 23,
   "metadata": {},
   "outputs": [
    {
     "data": {
      "text/plain": [
       "{'server': {'listenerAddress': '0.0.0.0',\n",
       "  'listenerPort': 5020,\n",
       "  'tlsParams': {'description': 'path to certificate and private key to enable tls',\n",
       "   'privateKey': None,\n",
       "   'certificate': None},\n",
       "  'logging': {'format': '%(asctime)-15s %(threadName)-15s  %(levelname)-8s %(module)-15s:%(lineno)-8s %(message)s',\n",
       "   'logLevel': 'DEBUG'}},\n",
       " 'registers': {'description': 'initial values for the register types',\n",
       "  'zeroMode': False,\n",
       "  'initializeUndefinedRegisters': False,\n",
       "  'discreteInput': {},\n",
       "  'coils': {},\n",
       "  'holdingRegister': {'123': '0xAABB', '246': '0x0101'},\n",
       "  'inputRegister': {'0': '0x202',\n",
       "   '1': '0x2',\n",
       "   '2': '0x1e',\n",
       "   '3': '0xacfd',\n",
       "   '4': '0x44e7',\n",
       "   '244': '0x0',\n",
       "   '245': '0x0',\n",
       "   '246': '0x0',\n",
       "   '247': '0x0',\n",
       "   '248': '0x0',\n",
       "   '249': '0x0',\n",
       "   '250': '0x0',\n",
       "   '251': '0x0',\n",
       "   '252': '0x0',\n",
       "   '253': '0x0',\n",
       "   '254': '0x0',\n",
       "   '255': '0x0',\n",
       "   '352': '0xc22d',\n",
       "   '353': '0x436e',\n",
       "   '354': '0x5197',\n",
       "   '355': '0x3e21',\n",
       "   '356': '0xb079',\n",
       "   '357': '0x3d84',\n",
       "   '358': '0x0',\n",
       "   '359': '0x0',\n",
       "   '360': '0x0',\n",
       "   '361': '0x0',\n",
       "   '362': '0x0',\n",
       "   '363': '0x0',\n",
       "   '388': '0x84ee',\n",
       "   '389': '0x436e',\n",
       "   '390': '0x3458',\n",
       "   '391': '0x3e23',\n",
       "   '392': '0x58b3',\n",
       "   '393': '0x3d84',\n",
       "   '394': '0x0',\n",
       "   '395': '0x0',\n",
       "   '396': '0x0',\n",
       "   '397': '0x0',\n",
       "   '398': '0x0',\n",
       "   '399': '0x0',\n",
       "   '424': '0xd443',\n",
       "   '425': '0x424d',\n",
       "   '426': '0xd443',\n",
       "   '427': '0x424d',\n",
       "   '428': '0xa82b',\n",
       "   '429': '0x4235',\n",
       "   '430': '0x0',\n",
       "   '431': '0x0',\n",
       "   '432': '0x0',\n",
       "   '433': '0x0',\n",
       "   '434': '0x0',\n",
       "   '435': '0x0'}}}"
      ]
     },
     "execution_count": 23,
     "metadata": {},
     "output_type": "execute_result"
    }
   ],
   "source": [
    "import json\n",
    "\n",
    "registers = [\n",
    "    ((0, 1), [514]),\n",
    "    ((1, 1), [2]),\n",
    "    ((2, 3), [30, 44285, 17639]),\n",
    "    ((244, 12), [0, 0, 0, 0, 0, 0, 0, 0, 0, 0, 0, 0]),\n",
    "    ((352, 12), [49709, 17262, 20887, 15905, 45177, 15748, 0, 0, 0, 0, 0, 0]),\n",
    "    ((388, 12), [34030, 17262, 13400, 15907, 22707, 15748, 0, 0, 0, 0, 0, 0]),\n",
    "    ((424, 12), [54339, 16973, 54339, 16973, 43051, 16949, 0, 0, 0, 0, 0, 0]),\n",
    "]\n",
    "\n",
    "dummy_data ={ f\"{r}\": hex(value) for (register, length), data in registers for r, value in zip(range(register, register+length), data) }\n",
    "data['registers']['inputRegister'] = dummy_data\n",
    "\n",
    "with open(\"server.json\", \"w\") as outfile:\n",
    "    json.dump(data, outfile, indent=2)\n",
    "# dummy_data = {f\"{register['register'][0] + idx}\": [hex(value) for idx, value in enumerate(register['values'])] for register in registers}\n",
    "# dummy_data\n",
    "data"
   ]
  },
  {
   "cell_type": "code",
   "execution_count": null,
   "metadata": {},
   "outputs": [],
   "source": []
  }
 ],
 "metadata": {
  "kernelspec": {
   "display_name": "Python 3",
   "language": "python",
   "name": "python3"
  },
  "language_info": {
   "codemirror_mode": {
    "name": "ipython",
    "version": 3
   },
   "file_extension": ".py",
   "mimetype": "text/x-python",
   "name": "python",
   "nbconvert_exporter": "python",
   "pygments_lexer": "ipython3",
   "version": "3.11.1"
  },
  "orig_nbformat": 4,
  "vscode": {
   "interpreter": {
    "hash": "4bffa11d7eaaadb6e1ba7f013eda8fd9dddd0d24e4978a8c6674212b4643d55c"
   }
  }
 },
 "nbformat": 4,
 "nbformat_minor": 2
}
